{
 "cells": [
  {
   "cell_type": "code",
   "execution_count": 19,
   "metadata": {},
   "outputs": [],
   "source": [
    "#import Libraries \n",
    "import mysql.connector\n",
    "from mysql.connector import Error\n",
    "import pandas as pd"
   ]
  },
  {
   "cell_type": "code",
   "execution_count": 20,
   "metadata": {},
   "outputs": [
    {
     "name": "stdout",
     "output_type": "stream",
     "text": [
      "MySQL Database conneciton successful\n"
     ]
    }
   ],
   "source": [
    "def create_server_connection(host_name,user_name,user_passwowrd):\n",
    "    connection = None\n",
    "    try:\n",
    "        connection = mysql.connector.connect(\n",
    "            host = host_name,\n",
    "            user = user_name,\n",
    "            passwd = user_passwowrd\n",
    "        )\n",
    "        print(\"MySQL Database conneciton successful\")\n",
    "    except Error as err:\n",
    "        print(f'Error: \"{err}\"')\n",
    "    return connection\n",
    "\n",
    "# Put our MySQL Terminal password\n",
    "pw = \"VaSe@g.c6\"\n",
    "\n",
    "#Database name\n",
    "db = \"mysql_python\"\n",
    "\n",
    "connection = create_server_connection(\"localhost\",'root',pw)"
   ]
  },
  {
   "cell_type": "code",
   "execution_count": 21,
   "metadata": {},
   "outputs": [
    {
     "name": "stdout",
     "output_type": "stream",
     "text": [
      "Error: \"1007 (HY000): Can't create database 'mysql_python'; database exists\"\n"
     ]
    }
   ],
   "source": [
    "# Create mysql_python database\n",
    "\n",
    "def create_database(connection,query):\n",
    "    cursor = connection.cursor() # it create object that can create sql query\n",
    "    try:\n",
    "        cursor.execute(query)\n",
    "        print(\"Database created successfully\")\n",
    "    except Error as err:\n",
    "        print(f'Error: \"{err}\"')\n",
    "\n",
    "create_database_query = \"Create database mysql_python\"\n",
    "create_database(connection,create_database_query)\n",
    "\n"
   ]
  },
  {
   "cell_type": "code",
   "execution_count": 29,
   "metadata": {},
   "outputs": [],
   "source": [
    "# Connect to database\n",
    "\n",
    "def create_db_connection(host_name,user_name,user_password,db_name):\n",
    "    connection = None\n",
    "    try:\n",
    "        connection = mysql.connector.connect(host = host_name,\n",
    "                                             user = user_name,\n",
    "                                             passwd = user_password,\n",
    "                                             database = db_name)\n",
    "        print(\"MySQL database connection is established.\")\n",
    "    except Error as err:\n",
    "        print(f'Error \"{err}\"')\n",
    "    return connection"
   ]
  },
  {
   "cell_type": "code",
   "execution_count": 30,
   "metadata": {},
   "outputs": [],
   "source": [
    "# Excecute sql queries\n",
    "def execute_query(connection, query):\n",
    "    curs = connection.cursor()\n",
    "    try:\n",
    "        curs.execute(query)\n",
    "        connection.commit()\n",
    "        print(\"Query was successful.\")\n",
    "    except Error as err:\n",
    "        print(f'Error: \"{err}\"')"
   ]
  },
  {
   "cell_type": "code",
   "execution_count": 61,
   "metadata": {},
   "outputs": [
    {
     "name": "stdout",
     "output_type": "stream",
     "text": [
      "MySQL database connection is established.\n",
      "Query was successful.\n"
     ]
    }
   ],
   "source": [
    "create_order_table =\"\"\"\n",
    "create table orders(\n",
    "order_id int primary key,\n",
    "customer_name varchar(20) not null,\n",
    "product_name varchar(20) not null,\n",
    "date_ordered date,\n",
    "quantity int,\n",
    "unit_price float,\n",
    "phone_number varchar(20));\n",
    "\"\"\"\n",
    "\n",
    "# connect to database\n",
    "connection = create_db_connection(\"localhost\",\"root\",pw, db)\n",
    "execute_query(connection,create_order_table)"
   ]
  },
  {
   "cell_type": "code",
   "execution_count": 65,
   "metadata": {},
   "outputs": [
    {
     "name": "stdout",
     "output_type": "stream",
     "text": [
      "MySQL database connection is established.\n",
      "Query was successful.\n"
     ]
    }
   ],
   "source": [
    "# Inser data\n",
    "data_orders = \"\"\"\n",
    "insert into orders values\n",
    "(101,'Steve','Laptop','2018-06-12',2,800,'123456789'),\n",
    "(102,'Mark','Mobile','2018-06-12',2,200,'456789123'),\n",
    "(103,'Kelvin','Bucket','2018-06-12',2,8,'678912345'),\n",
    "(104,'Thomas','Trumpet','2018-06-12',2,100,'912345678'),\n",
    "(105,'Eve','Pen','2018-06-12',2,1,'345678912');\n",
    "\"\"\"\n",
    "connection = create_db_connection(\"localhost\",\"root\",pw, db)\n",
    "execute_query(connection,data_orders)"
   ]
  },
  {
   "cell_type": "code",
   "execution_count": 68,
   "metadata": {},
   "outputs": [],
   "source": [
    "# Read Results\n",
    "def read_query(connection,query):\n",
    "    cursor = connection.cursor()\n",
    "    result = None\n",
    "    try:\n",
    "        cursor.execute(query)\n",
    "        result = cursor.fetchall()\n",
    "        return result\n",
    "    except Error as err:\n",
    "        print(f'Error: \"{err}\"')"
   ]
  },
  {
   "cell_type": "code",
   "execution_count": 69,
   "metadata": {},
   "outputs": [
    {
     "name": "stdout",
     "output_type": "stream",
     "text": [
      "MySQL database connection is established.\n",
      "(101, 'Steve', 'Laptop', datetime.date(2018, 6, 12), 2, 800.0, '123456789')\n",
      "(102, 'Mark', 'Mobile', datetime.date(2018, 6, 12), 2, 200.0, '456789123')\n",
      "(103, 'Kelvin', 'Bucket', datetime.date(2018, 6, 12), 2, 8.0, '678912345')\n",
      "(104, 'Thomas', 'Trumpet', datetime.date(2018, 6, 12), 2, 100.0, '912345678')\n",
      "(105, 'Eve', 'Pen', datetime.date(2018, 6, 12), 2, 1.0, '345678912')\n"
     ]
    }
   ],
   "source": [
    "# Using the select statement\n",
    "q1 = \"\"\"\n",
    "select * from orders;\n",
    "\"\"\"\n",
    "\n",
    "connection = create_db_connection(\"localhost\",\"root\",pw, db)\n",
    "results = read_query(connection,q1)\n",
    "for result in results:\n",
    "    print(result)"
   ]
  },
  {
   "cell_type": "code",
   "execution_count": 70,
   "metadata": {},
   "outputs": [
    {
     "name": "stdout",
     "output_type": "stream",
     "text": [
      "MySQL database connection is established.\n",
      "('Steve', '123456789')\n",
      "('Mark', '456789123')\n",
      "('Kelvin', '678912345')\n",
      "('Thomas', '912345678')\n",
      "('Eve', '345678912')\n"
     ]
    }
   ],
   "source": [
    "# Some more queries\n",
    "q2 = \"\"\"\n",
    "select customer_name, phone_number from orders;\n",
    "\"\"\"\n",
    "\n",
    "connection = create_db_connection(\"localhost\",\"root\",pw, db)\n",
    "results = read_query(connection,q2)\n",
    "for result in results:\n",
    "    print(result)"
   ]
  },
  {
   "cell_type": "code",
   "execution_count": 71,
   "metadata": {},
   "outputs": [
    {
     "name": "stdout",
     "output_type": "stream",
     "text": [
      "MySQL database connection is established.\n",
      "(2018,)\n"
     ]
    }
   ],
   "source": [
    "# Some more queries\n",
    "q3 = \"\"\"\n",
    "select distinct year(date_ordered) from orders;\n",
    "\"\"\"\n",
    "\n",
    "connection = create_db_connection(\"localhost\",\"root\",pw, db)\n",
    "results = read_query(connection,q3)\n",
    "for result in results:\n",
    "    print(result)"
   ]
  },
  {
   "cell_type": "code",
   "execution_count": 74,
   "metadata": {},
   "outputs": [
    {
     "name": "stdout",
     "output_type": "stream",
     "text": [
      "MySQL database connection is established.\n",
      "(101, 'Steve', 'Laptop', datetime.date(2018, 6, 12), 2, 800.0, '123456789')\n",
      "(102, 'Mark', 'Mobile', datetime.date(2018, 6, 12), 2, 200.0, '456789123')\n"
     ]
    }
   ],
   "source": [
    "# Some more queries\n",
    "q4 = \"\"\"\n",
    "select * from orders where unit_price>100;\n",
    "\"\"\"\n",
    "\n",
    "connection = create_db_connection(\"localhost\",\"root\",pw, db)\n",
    "results = read_query(connection,q4)\n",
    "for result in results:\n",
    "    print(result)"
   ]
  },
  {
   "cell_type": "code",
   "execution_count": 82,
   "metadata": {},
   "outputs": [
    {
     "name": "stdout",
     "output_type": "stream",
     "text": [
      "MySQL database connection is established.\n",
      "(101, 'Steve', 'Laptop', datetime.date(2018, 6, 12), 2, 800.0, '123456789')\n",
      "(102, 'Mark', 'Mobile', datetime.date(2018, 6, 12), 2, 200.0, '456789123')\n",
      "(104, 'Thomas', 'Trumpet', datetime.date(2018, 6, 12), 2, 45.0, '912345678')\n",
      "(103, 'Kelvin', 'Bucket', datetime.date(2018, 6, 12), 2, 8.0, '678912345')\n",
      "(105, 'Eve', 'Pen', datetime.date(2018, 6, 12), 2, 1.0, '345678912')\n"
     ]
    }
   ],
   "source": [
    "# Some more queries\n",
    "q5 = \"\"\"\n",
    "select * from orders order by unit_price desc;\n",
    "\"\"\"\n",
    "\n",
    "connection = create_db_connection(\"localhost\",\"root\",pw, db)\n",
    "results = read_query(connection,q5)\n",
    "for result in results:\n",
    "    print(result)"
   ]
  },
  {
   "cell_type": "code",
   "execution_count": 85,
   "metadata": {},
   "outputs": [
    {
     "data": {
      "text/html": [
       "<div>\n",
       "<style scoped>\n",
       "    .dataframe tbody tr th:only-of-type {\n",
       "        vertical-align: middle;\n",
       "    }\n",
       "\n",
       "    .dataframe tbody tr th {\n",
       "        vertical-align: top;\n",
       "    }\n",
       "\n",
       "    .dataframe thead th {\n",
       "        text-align: right;\n",
       "    }\n",
       "</style>\n",
       "<table border=\"1\" class=\"dataframe\">\n",
       "  <thead>\n",
       "    <tr style=\"text-align: right;\">\n",
       "      <th></th>\n",
       "      <th>order_id</th>\n",
       "      <th>customer_name</th>\n",
       "      <th>product_name</th>\n",
       "      <th>date_ordered</th>\n",
       "      <th>quantity</th>\n",
       "      <th>unit_price</th>\n",
       "      <th>phone_number</th>\n",
       "    </tr>\n",
       "  </thead>\n",
       "  <tbody>\n",
       "    <tr>\n",
       "      <th>0</th>\n",
       "      <td>101</td>\n",
       "      <td>Steve</td>\n",
       "      <td>Laptop</td>\n",
       "      <td>2018-06-12</td>\n",
       "      <td>2</td>\n",
       "      <td>800.0</td>\n",
       "      <td>123456789</td>\n",
       "    </tr>\n",
       "    <tr>\n",
       "      <th>1</th>\n",
       "      <td>102</td>\n",
       "      <td>Mark</td>\n",
       "      <td>Mobile</td>\n",
       "      <td>2018-06-12</td>\n",
       "      <td>2</td>\n",
       "      <td>200.0</td>\n",
       "      <td>456789123</td>\n",
       "    </tr>\n",
       "    <tr>\n",
       "      <th>2</th>\n",
       "      <td>104</td>\n",
       "      <td>Thomas</td>\n",
       "      <td>Trumpet</td>\n",
       "      <td>2018-06-12</td>\n",
       "      <td>2</td>\n",
       "      <td>45.0</td>\n",
       "      <td>912345678</td>\n",
       "    </tr>\n",
       "    <tr>\n",
       "      <th>3</th>\n",
       "      <td>103</td>\n",
       "      <td>Kelvin</td>\n",
       "      <td>Bucket</td>\n",
       "      <td>2018-06-12</td>\n",
       "      <td>2</td>\n",
       "      <td>8.0</td>\n",
       "      <td>678912345</td>\n",
       "    </tr>\n",
       "    <tr>\n",
       "      <th>4</th>\n",
       "      <td>105</td>\n",
       "      <td>Eve</td>\n",
       "      <td>Pen</td>\n",
       "      <td>2018-06-12</td>\n",
       "      <td>2</td>\n",
       "      <td>1.0</td>\n",
       "      <td>345678912</td>\n",
       "    </tr>\n",
       "  </tbody>\n",
       "</table>\n",
       "</div>"
      ],
      "text/plain": [
       "   order_id customer_name product_name date_ordered  quantity  unit_price  \\\n",
       "0       101         Steve       Laptop   2018-06-12         2       800.0   \n",
       "1       102          Mark       Mobile   2018-06-12         2       200.0   \n",
       "2       104        Thomas      Trumpet   2018-06-12         2        45.0   \n",
       "3       103        Kelvin       Bucket   2018-06-12         2         8.0   \n",
       "4       105           Eve          Pen   2018-06-12         2         1.0   \n",
       "\n",
       "  phone_number  \n",
       "0    123456789  \n",
       "1    456789123  \n",
       "2    912345678  \n",
       "3    678912345  \n",
       "4    345678912  "
      ]
     },
     "metadata": {},
     "output_type": "display_data"
    }
   ],
   "source": [
    "# creating dataframe \n",
    "\n",
    "from_db = []\n",
    "for result in results:\n",
    "    result = list(result)\n",
    "    from_db.append(result)\n",
    "columns = ['order_id','customer_name','product_name','date_ordered','quantity','unit_price','phone_number']\n",
    "df = pd.DataFrame(from_db,columns = columns)\n",
    "\n",
    "display(df)"
   ]
  },
  {
   "cell_type": "code",
   "execution_count": 81,
   "metadata": {},
   "outputs": [
    {
     "name": "stdout",
     "output_type": "stream",
     "text": [
      "MySQL database connection is established.\n",
      "Query was successful.\n"
     ]
    }
   ],
   "source": [
    "# Update command\n",
    "update = \"\"\"\n",
    "update orders\n",
    "set unit_price = 45\n",
    "where order_id = 104\n",
    "\"\"\"\n",
    "connection = create_db_connection(\"localhost\",\"root\",pw, db)\n",
    "execute_query(connection,update)"
   ]
  },
  {
   "cell_type": "code",
   "execution_count": 84,
   "metadata": {},
   "outputs": [
    {
     "name": "stdout",
     "output_type": "stream",
     "text": [
      "MySQL database connection is established.\n",
      "Query was successful.\n"
     ]
    }
   ],
   "source": [
    "# Delete command\n",
    "delete_order = \"\"\"\n",
    "delete from orders\n",
    "where order_id = 105;\n",
    "\"\"\"\n",
    "connection = create_db_connection(\"localhost\",\"root\",pw, db)\n",
    "execute_query(connection,delete_order)"
   ]
  },
  {
   "cell_type": "code",
   "execution_count": null,
   "metadata": {},
   "outputs": [],
   "source": [
    "q = \"\"\"\n",
    "select * from links;\n",
    "\"\"\"\n",
    "connection = create_db_connection(\"localhost\",\"root\",pw, db)\n",
    "results = read_query(connection,q)\n",
    "for result in results:\n",
    "    print(result)"
   ]
  },
  {
   "cell_type": "code",
   "execution_count": null,
   "metadata": {},
   "outputs": [],
   "source": [
    "################################################################################################################################################################\n",
    "##                                                          Assignment here                                                                                   ##\n",
    "################################################################################################################################################################"
   ]
  },
  {
   "cell_type": "code",
   "execution_count": null,
   "metadata": {},
   "outputs": [],
   "source": []
  },
  {
   "cell_type": "code",
   "execution_count": 110,
   "metadata": {},
   "outputs": [
    {
     "name": "stdout",
     "output_type": "stream",
     "text": [
      "MySQL database connection is established.\n",
      "Query was successful.\n"
     ]
    }
   ],
   "source": [
    "create_order_table =\"\"\"\n",
    "create table links(\n",
    "links varchar(300) not null);\n",
    "\"\"\"\n",
    "\n",
    "# connect to database\n",
    "connection = create_db_connection(\"localhost\",\"root\",pw, db)\n",
    "execute_query(connection,create_order_table)"
   ]
  },
  {
   "cell_type": "code",
   "execution_count": 111,
   "metadata": {},
   "outputs": [
    {
     "name": "stdout",
     "output_type": "stream",
     "text": [
      "MySQL database connection is established.\n",
      "Query was successful.\n",
      "MySQL database connection is established.\n",
      "Query was successful.\n",
      "MySQL database connection is established.\n",
      "Query was successful.\n",
      "MySQL database connection is established.\n",
      "Query was successful.\n",
      "MySQL database connection is established.\n",
      "Query was successful.\n",
      "MySQL database connection is established.\n",
      "Query was successful.\n",
      "MySQL database connection is established.\n",
      "Query was successful.\n",
      "MySQL database connection is established.\n",
      "Query was successful.\n",
      "MySQL database connection is established.\n",
      "Query was successful.\n",
      "MySQL database connection is established.\n",
      "Query was successful.\n",
      "MySQL database connection is established.\n",
      "Query was successful.\n",
      "MySQL database connection is established.\n",
      "Query was successful.\n",
      "MySQL database connection is established.\n",
      "Query was successful.\n",
      "MySQL database connection is established.\n",
      "Query was successful.\n",
      "MySQL database connection is established.\n",
      "Query was successful.\n",
      "MySQL database connection is established.\n",
      "Query was successful.\n",
      "MySQL database connection is established.\n",
      "Query was successful.\n",
      "MySQL database connection is established.\n",
      "Query was successful.\n",
      "MySQL database connection is established.\n",
      "Query was successful.\n",
      "MySQL database connection is established.\n",
      "Query was successful.\n",
      "MySQL database connection is established.\n",
      "Query was successful.\n",
      "MySQL database connection is established.\n",
      "Query was successful.\n",
      "MySQL database connection is established.\n",
      "Query was successful.\n",
      "MySQL database connection is established.\n",
      "Query was successful.\n",
      "MySQL database connection is established.\n",
      "Query was successful.\n",
      "MySQL database connection is established.\n",
      "Query was successful.\n",
      "MySQL database connection is established.\n",
      "Query was successful.\n",
      "MySQL database connection is established.\n",
      "Query was successful.\n",
      "MySQL database connection is established.\n",
      "Query was successful.\n",
      "MySQL database connection is established.\n",
      "Query was successful.\n",
      "MySQL database connection is established.\n",
      "Query was successful.\n",
      "MySQL database connection is established.\n",
      "Query was successful.\n",
      "MySQL database connection is established.\n",
      "Query was successful.\n",
      "MySQL database connection is established.\n",
      "Query was successful.\n",
      "MySQL database connection is established.\n",
      "Query was successful.\n",
      "MySQL database connection is established.\n",
      "Query was successful.\n",
      "MySQL database connection is established.\n",
      "Query was successful.\n",
      "MySQL database connection is established.\n",
      "Query was successful.\n",
      "MySQL database connection is established.\n",
      "Query was successful.\n",
      "MySQL database connection is established.\n",
      "Query was successful.\n",
      "MySQL database connection is established.\n",
      "Query was successful.\n",
      "MySQL database connection is established.\n",
      "Query was successful.\n",
      "MySQL database connection is established.\n",
      "Query was successful.\n",
      "MySQL database connection is established.\n",
      "Query was successful.\n",
      "MySQL database connection is established.\n",
      "Query was successful.\n",
      "MySQL database connection is established.\n",
      "Query was successful.\n",
      "MySQL database connection is established.\n",
      "Query was successful.\n",
      "MySQL database connection is established.\n",
      "Query was successful.\n",
      "MySQL database connection is established.\n",
      "Query was successful.\n",
      "MySQL database connection is established.\n",
      "Query was successful.\n",
      "MySQL database connection is established.\n",
      "Query was successful.\n",
      "MySQL database connection is established.\n",
      "Query was successful.\n",
      "MySQL database connection is established.\n",
      "Query was successful.\n",
      "MySQL database connection is established.\n",
      "Query was successful.\n",
      "MySQL database connection is established.\n",
      "Query was successful.\n",
      "MySQL database connection is established.\n",
      "Query was successful.\n",
      "MySQL database connection is established.\n",
      "Query was successful.\n",
      "MySQL database connection is established.\n",
      "Query was successful.\n",
      "MySQL database connection is established.\n",
      "Query was successful.\n",
      "MySQL database connection is established.\n",
      "Query was successful.\n",
      "MySQL database connection is established.\n",
      "Query was successful.\n",
      "MySQL database connection is established.\n",
      "Query was successful.\n",
      "MySQL database connection is established.\n",
      "Query was successful.\n",
      "MySQL database connection is established.\n",
      "Query was successful.\n",
      "MySQL database connection is established.\n",
      "Query was successful.\n",
      "MySQL database connection is established.\n",
      "Query was successful.\n",
      "MySQL database connection is established.\n",
      "Query was successful.\n",
      "MySQL database connection is established.\n",
      "Query was successful.\n",
      "MySQL database connection is established.\n",
      "Query was successful.\n",
      "MySQL database connection is established.\n",
      "Query was successful.\n",
      "MySQL database connection is established.\n",
      "Query was successful.\n",
      "MySQL database connection is established.\n",
      "Query was successful.\n",
      "MySQL database connection is established.\n",
      "Query was successful.\n",
      "MySQL database connection is established.\n",
      "Query was successful.\n",
      "MySQL database connection is established.\n",
      "Query was successful.\n",
      "MySQL database connection is established.\n",
      "Query was successful.\n",
      "MySQL database connection is established.\n",
      "Query was successful.\n",
      "MySQL database connection is established.\n",
      "Query was successful.\n",
      "MySQL database connection is established.\n",
      "Query was successful.\n",
      "MySQL database connection is established.\n",
      "Query was successful.\n",
      "MySQL database connection is established.\n",
      "Query was successful.\n",
      "MySQL database connection is established.\n",
      "Query was successful.\n",
      "MySQL database connection is established.\n",
      "Query was successful.\n",
      "MySQL database connection is established.\n",
      "Query was successful.\n",
      "MySQL database connection is established.\n",
      "Query was successful.\n",
      "MySQL database connection is established.\n",
      "Query was successful.\n",
      "MySQL database connection is established.\n",
      "Query was successful.\n",
      "MySQL database connection is established.\n",
      "Query was successful.\n",
      "MySQL database connection is established.\n",
      "Query was successful.\n",
      "MySQL database connection is established.\n",
      "Query was successful.\n",
      "MySQL database connection is established.\n",
      "Query was successful.\n",
      "MySQL database connection is established.\n",
      "Query was successful.\n",
      "MySQL database connection is established.\n",
      "Query was successful.\n",
      "MySQL database connection is established.\n",
      "Query was successful.\n",
      "MySQL database connection is established.\n",
      "Query was successful.\n",
      "MySQL database connection is established.\n",
      "Query was successful.\n",
      "MySQL database connection is established.\n",
      "Query was successful.\n",
      "MySQL database connection is established.\n",
      "Query was successful.\n",
      "MySQL database connection is established.\n",
      "Query was successful.\n",
      "MySQL database connection is established.\n",
      "Query was successful.\n"
     ]
    }
   ],
   "source": [
    "# Inser data\n",
    "for i in range(100):\n",
    "    data_orders = \"insert into links values('\"+str(df['0'][i])+\"');\"\n",
    "    connection = create_db_connection(\"localhost\",\"root\",pw, db)\n",
    "    execute_query(connection,data_orders)"
   ]
  },
  {
   "cell_type": "code",
   "execution_count": null,
   "metadata": {},
   "outputs": [],
   "source": []
  },
  {
   "cell_type": "code",
   "execution_count": null,
   "metadata": {},
   "outputs": [],
   "source": []
  },
  {
   "cell_type": "code",
   "execution_count": 112,
   "metadata": {},
   "outputs": [
    {
     "name": "stdout",
     "output_type": "stream",
     "text": [
      "MySQL database connection is established.\n",
      "('https://developers.arcgis.com/rest/',)\n",
      "('https://enterprise.arcgis.com/en/server/10.3/publish-services/windows/introduction-to-geoprocessing-rest-services.htm',)\n",
      "('https://sampleserver6.arcgisonline.com/arcgis/rest/services',)\n",
      "('https://openlayers.org/en/latest/examples/vector-esri.html',)\n",
      "('https://developers.arcgis.com/rest/enterprise-administration/server/overview/',)\n",
      "('https://www.esri.com/content/dam/esrisites/en-us/events/conferences/2020/federal-gis/arcgis-rest-api-getting-started.pdf',)\n",
      "('https://enterprise.arcgis.com/en/server/10.8/administer/linux/scripting-with-the-arcgis-rest-api.htm',)\n",
      "('https://support.esri.com/en-us/knowledge-base/how-to-access-the-rest-and-admin-endpoints-of-an-arcgis-000027990',)\n",
      "('https://developers.arcgis.com/javascript/3/jshelp/ags_rest.html',)\n",
      "('https://gcs-docs.s3.amazonaws.com/EVWHS/Miscellaneous/DevGuides/ESRI_Services/ESRI_rest.htm',)\n",
      "('http://gisweb.dotd.la.gov/arcgis/SDK/REST/index.html?servicesdirectory.html',)\n",
      "('https://stategisportal.nic.in/dbt/rest/services/dbt/bank/MapServer/',)\n",
      "('https://mapscaping.com/arcgis-rest-api-services-in-qgis/',)\n",
      "('https://developers.arcgis.com/arcgis-rest-js/',)\n",
      "('https://umd.nic.in/testmap/rest/login?redirect=https%3A//umd.nic.in/testmap/rest/services/SRA/SRA_Department/MapServer/41',)\n",
      "('https://www.postman.com/esridevs/workspace/arcgis-location-services/overview',)\n",
      "('https://mapservice.gov.in/mapserviceserv176/rest/login?redirect=https%3A//mapservice.gov.in/mapserviceserv176/rest/services/Street/StreetMap/MapServer/1271/query',)\n",
      "('https://help.koordinates.com/import-data/connect-arcgis-rest-api-data-source/',)\n",
      "('https://dnrmaps.wi.gov/arcgis/rest/services',)\n",
      "('https://cartong.github.io/arcgis-rest-service-export/',)\n",
      "('https://enviroatlas.epa.gov/arcgis/rest/services',)\n",
      "('https://www.pagis.org/arcgis/rest/services',)\n",
      "('https://developers.arcgis.com/rest/users-groups-and-items/',)\n",
      "('https://www.hendersoncountync.gov/gis/page/use-arcgis-server-web-services-arcmap-or-arcgis-pro',)\n",
      "('https://gis.blm.gov/arcgis/rest/services',)\n",
      "('https://environment.data.gov.uk/arcgis/rest/services',)\n",
      "('https://basemap.nationalmap.gov/ArcGIS/rest/services',)\n",
      "('https://sampleserver6.arcgisonline.com/arcgis/rest/services/USA/MapServer',)\n",
      "('https://geocatmin.ingemmet.gob.pe/arcgis/rest/services',)\n",
      "('https://community.safe.com/integration-8/arcgis-server-rest-api-and-fme-3796',)\n",
      "('https://enterprise.arcgis.com/en/server/latest/publish-services/linux/services-in-arcgis-enterprise.htm',)\n",
      "('https://www.geodose.com/2017/08/how-to-use-arcgis-rest-api-service-qgis.html',)\n",
      "('https://mediaspace.esri.com/media/t/1_p6u9rk5l',)\n",
      "('https://kygisserver.ky.gov/arcgis/rest/services',)\n",
      "('https://gis.arkansas.gov/arcgis',)\n",
      "('https://gis.saskatchewan.ca/arcgis/rest/services',)\n",
      "('https://gis.investodisha.gov.in/arcgis/rest/services?f=geositemap',)\n",
      "('https://gis.water.ca.gov/arcgis/rest/services',)\n",
      "('https://enterprise.arcgis.com/en/server/10.5/create-web-apps/windows/share-gis-services.htm',)\n",
      "('https://docs.safe.com/fme/html/FME-Form-Documentation/FME-ReadersWriters/arcgisfeatures/arcgisfeatures.htm',)\n",
      "('https://gismaps.vdem.virginia.gov/arcgis/rest/services',)\n",
      "('https://www.amapgeo.it/arcgis/rest/login?redirect=https%3A//www.amapgeo.it/arcgis/rest/services/ReteACQ_Rilievo/MapServer/305',)\n",
      "('https://community.alteryx.com/t5/Alteryx-Designer-Desktop-Discussions/ArcGIS-Rest-API-connection/td-p/746370',)\n",
      "('https://powerusers.microsoft.com/t5/Building-Flows/Building-HTTP-request-for-a-ArcGIS-Rest-Service/td-p/837348',)\n",
      "('https://developers.arcgis.com/rest/users-groups-and-items/create-service/',)\n",
      "('https://gis.stackexchange.com/questions/469898/how-to-get-items-of-a-user-within-a-specific-folder-using-arcgis-rest-api',)\n",
      "('https://stackoverflow.com/questions/60049860/how-to-get-all-fields-from-arcgis-rest-api',)\n",
      "('https://en.wikipedia.org/wiki/ArcGIS_Server',)\n",
      "('https://developers.arcgis.com/rest/network/',)\n",
      "('https://developers.arcgis.com/rest/geocode/',)\n",
      "('https://gisweb.pwcva.gov/arcgis/rest/services/AGOL/Pending_Plan/MapServer?f=kmz',)\n",
      "('https://dtdapps.colorado.gov/server/rest/services/BikePed/ExportWebMap/GPServer',)\n",
      "('https://developers.arcgis.com/rest/places/',)\n",
      "('https://maps.murfreesborotn.gov/server/rest/services/BuildingCodes/Permits/MapServer',)\n",
      "('https://maps.yakimacounty.us/server/rest/services/CountyRoads/Miscellaneous/MapServer',)\n",
      "('https://spatial.industry.nsw.gov.au/arcgis/rest/services/IndustryView/Lots/MapServer',)\n",
      "('https://gisweb.pwcva.gov/arcgis/rest/services/AGOL/AGOL/MapServer?f=kmz',)\n",
      "('https://developers.arcgis.com/rest/enterprise-administration/server/editservice/',)\n",
      "('https://openlayers.org/en/latest/examples/',)\n",
      "('http://gis.nola.gov:6080/arcgis/rest/services/dev/strz_finder/MapServer?f=kmz',)\n",
      "('https://gis4.montgomerycountymd.gov/ArcGIS/rest/services/DOT/purple_line/MapServer?f=kmz',)\n",
      "('https://mapa.irun.org/arcgis/rest/services/Policia_PMPC_Fiestas/Agentes_Policia_Turno/MapServer',)\n",
      "('https://maps.doncaster.gov.uk/server/rest/services/Drainage/LLFA_Structures_Published/FeatureServer',)\n",
      "('https://satupeta.jabarprov.go.id/arcgis/rest/services/repository/SPKLU/MapServer?f=kmz',)\n",
      "('https://maps.yakimacounty.us/server/rest/services/Irrigation/Lateral_Features_ViewOnlySearch/MapServer',)\n",
      "('https://gis.dep.pa.gov/depgisprd/rest/services/Assessments/AssessmentLayers/MapServer',)\n",
      "('http://gis.infrastructure.gov.au/infrastructure/rest/services/Auslink/AuslinkPointClustered/MapServer',)\n",
      "('https://app2.ge.ch/tergeothematiques/rest/services/GEOLOGIE_MODELE_GEOL_PROFOND/FeatureServer/81',)\n",
      "('http://gis.nola.gov:6080/arcgis/rest/services/dev/Gray_Districts/MapServer?f=kmz',)\n",
      "('https://mapprod.environment.nsw.gov.au/arcgis/rest/services/EPIC/EPICCaseReview/MapServer?f=kmz',)\n",
      "('https://maps.doncaster.gov.uk/server/rest/services/Drainage/LLFA_Structures_Published/MapServer',)\n",
      "('https://developers.arcgis.com/rest/enterprise-administration/server/handlersrestservicesdirectoryedit/',)\n",
      "('https://gis.policia.gov.co:6443/arcgis/rest/services/OFTIC/APP_123_OFTIC/MapServer?f=kmz',)\n",
      "('http://gis.infrastructure.gov.au/infrastructure/rest/services/Auslink/AdministrativeAreas_LGA/MapServer',)\n",
      "('https://mapa.irun.org/arcgis/rest/services/Policia_PMPC_Fiestas/Agentes_Policia_Turno/FeatureServer',)\n",
      "('https://gis.policia.gov.co:6443/arcgis/rest/services/OFTIC/SIMEP_AUTOS/MapServer?f=kmz',)\n",
      "('https://mahere-tst.at.govt.nz/server/rest/services/Assets/RAMM_Carriageway/MapServer',)\n",
      "('https://developers.arcgis.com/rest/enterprise-administration/server/createservice/',)\n",
      "('https://developers.arcgis.com/rest/enterprise-administration/server/service/',)\n",
      "('https://developers.arcgis.com/rest/users-groups-and-items/authentication/',)\n",
      "('https://developers.arcgis.com/rest/enterprise-administration/server/apisecurity/',)\n",
      "('https://developers.arcgis.com/rest/enterprise-administration/server/managing-access-to-the-server-administration-rest-api/',)\n",
      "('https://developers.arcgis.com/rest/enterprise-administration/server/handlersrestservicesdirectory/',)\n",
      "('https://developers.arcgis.com/rest/users-groups-and-items/portal/',)\n",
      "('https://developers.arcgis.com/rest/analysis/',)\n",
      "('https://developers.arcgis.com/rest/enterprise-administration/server/whatsnew/',)\n",
      "('https://enterprise.arcgis.com/en/server/10.6/administer/windows/scripting-with-the-arcgis-rest-api.htm',)\n",
      "('https://enterprise.arcgis.com/en/portal/latest/administer/windows/about-the-arcgis-portal-directory.htm',)\n",
      "('https://developers.arcgis.com/rest/users-groups-and-items/organization-settings/',)\n",
      "('https://developers.arcgis.com/rest/enterprise-administration/portal/overview-of-portal-administration-in-the-arcgis-rest-api/',)\n",
      "('https://developers.arcgis.com/rest/enterprise-administration/notebook/getting-started-with-arcgis-notebook-server-rest-api/',)\n",
      "('https://developers.arcgis.com/rest/users-groups-and-items/common-parameters/',)\n",
      "('https://enterprise.arcgis.com/en/server/10.8/develop/windows/example-edit-service-properties.htm',)\n",
      "('https://enterprise.arcgis.com/en/server/latest/deploy/windows/components-of-arcgis-urls.htm',)\n",
      "('https://enterprise.arcgis.com/en/portal/latest/administer/windows/scripting-with-the-arcgis-rest-api.htm',)\n",
      "('https://services.arcgis.com/P3ePLMYs2RVChkJx/ArcGIS/rest/services',)\n",
      "('https://doc.arcgis.com/en/arcgis-online/reference/arcgis-server-services.htm',)\n",
      "('https://developers.arcgis.com/rest/enterprise-administration/enterprise/find-services/',)\n",
      "('https://developers.arcgis.com/rest/users-groups-and-items/servers/',)\n",
      "('https://enterprise.arcgis.com/en/server/latest/administer/linux/hiding-a-service-in-the-arcgis-server-services-directory.htm',)\n"
     ]
    }
   ],
   "source": [
    "q = \"\"\"\n",
    "select * from links;\n",
    "\"\"\"\n",
    "connection = create_db_connection(\"localhost\",\"root\",pw, db)\n",
    "results = read_query(connection,q)\n",
    "for result in results:\n",
    "    print(result)"
   ]
  },
  {
   "cell_type": "code",
   "execution_count": 104,
   "metadata": {},
   "outputs": [
    {
     "data": {
      "text/plain": [
       "[]"
      ]
     },
     "execution_count": 104,
     "metadata": {},
     "output_type": "execute_result"
    }
   ],
   "source": [
    "results"
   ]
  },
  {
   "cell_type": "code",
   "execution_count": null,
   "metadata": {},
   "outputs": [],
   "source": []
  },
  {
   "cell_type": "code",
   "execution_count": null,
   "metadata": {},
   "outputs": [],
   "source": []
  },
  {
   "cell_type": "code",
   "execution_count": null,
   "metadata": {},
   "outputs": [],
   "source": []
  },
  {
   "cell_type": "code",
   "execution_count": 92,
   "metadata": {},
   "outputs": [],
   "source": [
    "import pandas as pd\n",
    "df = pd.read_csv(\"C:\\\\V\\\\coding_placement\\\\web_scraping\\\\selenium\\\\links.csv\")"
   ]
  },
  {
   "cell_type": "code",
   "execution_count": 50,
   "metadata": {},
   "outputs": [
    {
     "name": "stdout",
     "output_type": "stream",
     "text": [
      "Error: \"1064 (42000): You have an error in your SQL syntax; check the manual that corresponds to your MySQL server version for the right syntax to use near 'order values(https://developers.arcgis.com/rest/)' at line 1\"\n",
      "Error: \"1064 (42000): You have an error in your SQL syntax; check the manual that corresponds to your MySQL server version for the right syntax to use near 'order values(https://enterprise.arcgis.com/en/server/10.3/publish-services/windo' at line 1\"\n",
      "Error: \"1064 (42000): You have an error in your SQL syntax; check the manual that corresponds to your MySQL server version for the right syntax to use near 'order values(https://sampleserver6.arcgisonline.com/arcgis/rest/services)' at line 1\"\n",
      "Error: \"1064 (42000): You have an error in your SQL syntax; check the manual that corresponds to your MySQL server version for the right syntax to use near 'order values(https://openlayers.org/en/latest/examples/vector-esri.html)' at line 1\"\n",
      "Error: \"1064 (42000): You have an error in your SQL syntax; check the manual that corresponds to your MySQL server version for the right syntax to use near 'order values(https://developers.arcgis.com/rest/enterprise-administration/server' at line 1\"\n",
      "Error: \"1064 (42000): You have an error in your SQL syntax; check the manual that corresponds to your MySQL server version for the right syntax to use near 'order values(https://www.esri.com/content/dam/esrisites/en-us/events/conferences' at line 1\"\n",
      "Error: \"1064 (42000): You have an error in your SQL syntax; check the manual that corresponds to your MySQL server version for the right syntax to use near 'order values(https://enterprise.arcgis.com/en/server/10.8/administer/linux/scrip' at line 1\"\n",
      "Error: \"1064 (42000): You have an error in your SQL syntax; check the manual that corresponds to your MySQL server version for the right syntax to use near 'order values(https://support.esri.com/en-us/knowledge-base/how-to-access-the-res' at line 1\"\n",
      "Error: \"1064 (42000): You have an error in your SQL syntax; check the manual that corresponds to your MySQL server version for the right syntax to use near 'order values(https://developers.arcgis.com/javascript/3/jshelp/ags_rest.html)' at line 1\"\n",
      "Error: \"1064 (42000): You have an error in your SQL syntax; check the manual that corresponds to your MySQL server version for the right syntax to use near 'order values(https://gcs-docs.s3.amazonaws.com/EVWHS/Miscellaneous/DevGuides/ESR' at line 1\"\n",
      "Error: \"1064 (42000): You have an error in your SQL syntax; check the manual that corresponds to your MySQL server version for the right syntax to use near 'order values(http://gisweb.dotd.la.gov/arcgis/SDK/REST/index.html?servicesdirect' at line 1\"\n",
      "Error: \"1064 (42000): You have an error in your SQL syntax; check the manual that corresponds to your MySQL server version for the right syntax to use near 'order values(https://stategisportal.nic.in/dbt/rest/services/dbt/bank/MapServer/' at line 1\"\n",
      "Error: \"1064 (42000): You have an error in your SQL syntax; check the manual that corresponds to your MySQL server version for the right syntax to use near 'order values(https://mapscaping.com/arcgis-rest-api-services-in-qgis/)' at line 1\"\n",
      "Error: \"1064 (42000): You have an error in your SQL syntax; check the manual that corresponds to your MySQL server version for the right syntax to use near 'order values(https://developers.arcgis.com/arcgis-rest-js/)' at line 1\"\n",
      "Error: \"1064 (42000): You have an error in your SQL syntax; check the manual that corresponds to your MySQL server version for the right syntax to use near 'order values(https://umd.nic.in/testmap/rest/login?redirect=https%3A//umd.nic.in' at line 1\"\n",
      "Error: \"1064 (42000): You have an error in your SQL syntax; check the manual that corresponds to your MySQL server version for the right syntax to use near 'order values(https://www.postman.com/esridevs/workspace/arcgis-location-services' at line 1\"\n",
      "Error: \"1064 (42000): You have an error in your SQL syntax; check the manual that corresponds to your MySQL server version for the right syntax to use near 'order values(https://mapservice.gov.in/mapserviceserv176/rest/login?redirect=htt' at line 1\"\n",
      "Error: \"1064 (42000): You have an error in your SQL syntax; check the manual that corresponds to your MySQL server version for the right syntax to use near 'order values(https://help.koordinates.com/import-data/connect-arcgis-rest-api-da' at line 1\"\n",
      "Error: \"1064 (42000): You have an error in your SQL syntax; check the manual that corresponds to your MySQL server version for the right syntax to use near 'order values(https://dnrmaps.wi.gov/arcgis/rest/services)' at line 1\"\n",
      "Error: \"1064 (42000): You have an error in your SQL syntax; check the manual that corresponds to your MySQL server version for the right syntax to use near 'order values(https://cartong.github.io/arcgis-rest-service-export/)' at line 1\"\n",
      "Error: \"1064 (42000): You have an error in your SQL syntax; check the manual that corresponds to your MySQL server version for the right syntax to use near 'order values(https://enviroatlas.epa.gov/arcgis/rest/services)' at line 1\"\n",
      "Error: \"1064 (42000): You have an error in your SQL syntax; check the manual that corresponds to your MySQL server version for the right syntax to use near 'order values(https://www.pagis.org/arcgis/rest/services)' at line 1\"\n",
      "Error: \"1064 (42000): You have an error in your SQL syntax; check the manual that corresponds to your MySQL server version for the right syntax to use near 'order values(https://developers.arcgis.com/rest/users-groups-and-items/)' at line 1\"\n",
      "Error: \"1064 (42000): You have an error in your SQL syntax; check the manual that corresponds to your MySQL server version for the right syntax to use near 'order values(https://www.hendersoncountync.gov/gis/page/use-arcgis-server-web-se' at line 1\"\n",
      "Error: \"1064 (42000): You have an error in your SQL syntax; check the manual that corresponds to your MySQL server version for the right syntax to use near 'order values(https://gis.blm.gov/arcgis/rest/services)' at line 1\"\n",
      "Error: \"1064 (42000): You have an error in your SQL syntax; check the manual that corresponds to your MySQL server version for the right syntax to use near 'order values(https://environment.data.gov.uk/arcgis/rest/services)' at line 1\"\n",
      "Error: \"1064 (42000): You have an error in your SQL syntax; check the manual that corresponds to your MySQL server version for the right syntax to use near 'order values(https://basemap.nationalmap.gov/ArcGIS/rest/services)' at line 1\"\n",
      "Error: \"1064 (42000): You have an error in your SQL syntax; check the manual that corresponds to your MySQL server version for the right syntax to use near 'order values(https://sampleserver6.arcgisonline.com/arcgis/rest/services/USA/Map' at line 1\"\n",
      "Error: \"1064 (42000): You have an error in your SQL syntax; check the manual that corresponds to your MySQL server version for the right syntax to use near 'order values(https://geocatmin.ingemmet.gob.pe/arcgis/rest/services)' at line 1\"\n",
      "Error: \"1064 (42000): You have an error in your SQL syntax; check the manual that corresponds to your MySQL server version for the right syntax to use near 'order values(https://community.safe.com/integration-8/arcgis-server-rest-api-and' at line 1\"\n",
      "Error: \"1064 (42000): You have an error in your SQL syntax; check the manual that corresponds to your MySQL server version for the right syntax to use near 'order values(https://enterprise.arcgis.com/en/server/latest/publish-services/lin' at line 1\"\n",
      "Error: \"1064 (42000): You have an error in your SQL syntax; check the manual that corresponds to your MySQL server version for the right syntax to use near 'order values(https://www.geodose.com/2017/08/how-to-use-arcgis-rest-api-service-' at line 1\"\n",
      "Error: \"1064 (42000): You have an error in your SQL syntax; check the manual that corresponds to your MySQL server version for the right syntax to use near 'order values(https://mediaspace.esri.com/media/t/1_p6u9rk5l)' at line 1\"\n",
      "Error: \"1064 (42000): You have an error in your SQL syntax; check the manual that corresponds to your MySQL server version for the right syntax to use near 'order values(https://kygisserver.ky.gov/arcgis/rest/services)' at line 1\"\n",
      "Error: \"1064 (42000): You have an error in your SQL syntax; check the manual that corresponds to your MySQL server version for the right syntax to use near 'order values(https://gis.arkansas.gov/arcgis)' at line 1\"\n",
      "Error: \"1064 (42000): You have an error in your SQL syntax; check the manual that corresponds to your MySQL server version for the right syntax to use near 'order values(https://gis.saskatchewan.ca/arcgis/rest/services)' at line 1\"\n",
      "Error: \"1064 (42000): You have an error in your SQL syntax; check the manual that corresponds to your MySQL server version for the right syntax to use near 'order values(https://gis.investodisha.gov.in/arcgis/rest/services?f=geositemap)' at line 1\"\n",
      "Error: \"1064 (42000): You have an error in your SQL syntax; check the manual that corresponds to your MySQL server version for the right syntax to use near 'order values(https://gis.water.ca.gov/arcgis/rest/services)' at line 1\"\n",
      "Error: \"1064 (42000): You have an error in your SQL syntax; check the manual that corresponds to your MySQL server version for the right syntax to use near 'order values(https://enterprise.arcgis.com/en/server/10.5/create-web-apps/window' at line 1\"\n",
      "Error: \"1064 (42000): You have an error in your SQL syntax; check the manual that corresponds to your MySQL server version for the right syntax to use near 'order values(https://docs.safe.com/fme/html/FME-Form-Documentation/FME-ReadersWr' at line 1\"\n",
      "Error: \"1064 (42000): You have an error in your SQL syntax; check the manual that corresponds to your MySQL server version for the right syntax to use near 'order values(https://gismaps.vdem.virginia.gov/arcgis/rest/services)' at line 1\"\n",
      "Error: \"1064 (42000): You have an error in your SQL syntax; check the manual that corresponds to your MySQL server version for the right syntax to use near 'order values(https://www.amapgeo.it/arcgis/rest/login?redirect=https%3A//www.ama' at line 1\"\n",
      "Error: \"1064 (42000): You have an error in your SQL syntax; check the manual that corresponds to your MySQL server version for the right syntax to use near 'order values(https://community.alteryx.com/t5/Alteryx-Designer-Desktop-Discussio' at line 1\"\n",
      "Error: \"1064 (42000): You have an error in your SQL syntax; check the manual that corresponds to your MySQL server version for the right syntax to use near 'order values(https://powerusers.microsoft.com/t5/Building-Flows/Building-HTTP-re' at line 1\"\n",
      "Error: \"1064 (42000): You have an error in your SQL syntax; check the manual that corresponds to your MySQL server version for the right syntax to use near 'order values(https://developers.arcgis.com/rest/users-groups-and-items/create-se' at line 1\"\n",
      "Error: \"1064 (42000): You have an error in your SQL syntax; check the manual that corresponds to your MySQL server version for the right syntax to use near 'order values(https://gis.stackexchange.com/questions/469898/how-to-get-items-of-' at line 1\"\n",
      "Error: \"1064 (42000): You have an error in your SQL syntax; check the manual that corresponds to your MySQL server version for the right syntax to use near 'order values(https://stackoverflow.com/questions/60049860/how-to-get-all-fields-' at line 1\"\n",
      "Error: \"1064 (42000): You have an error in your SQL syntax; check the manual that corresponds to your MySQL server version for the right syntax to use near 'order values(https://en.wikipedia.org/wiki/ArcGIS_Server)' at line 1\"\n",
      "Error: \"1064 (42000): You have an error in your SQL syntax; check the manual that corresponds to your MySQL server version for the right syntax to use near 'order values(https://developers.arcgis.com/rest/network/)' at line 1\"\n",
      "Error: \"1064 (42000): You have an error in your SQL syntax; check the manual that corresponds to your MySQL server version for the right syntax to use near 'order values(https://developers.arcgis.com/rest/geocode/)' at line 1\"\n",
      "Error: \"1064 (42000): You have an error in your SQL syntax; check the manual that corresponds to your MySQL server version for the right syntax to use near 'order values(https://gisweb.pwcva.gov/arcgis/rest/services/AGOL/Pending_Plan/Map' at line 1\"\n",
      "Error: \"1064 (42000): You have an error in your SQL syntax; check the manual that corresponds to your MySQL server version for the right syntax to use near 'order values(https://dtdapps.colorado.gov/server/rest/services/BikePed/ExportWeb' at line 1\"\n",
      "Error: \"1064 (42000): You have an error in your SQL syntax; check the manual that corresponds to your MySQL server version for the right syntax to use near 'order values(https://developers.arcgis.com/rest/places/)' at line 1\"\n",
      "Error: \"1064 (42000): You have an error in your SQL syntax; check the manual that corresponds to your MySQL server version for the right syntax to use near 'order values(https://maps.murfreesborotn.gov/server/rest/services/BuildingCodes/' at line 1\"\n",
      "Error: \"1064 (42000): You have an error in your SQL syntax; check the manual that corresponds to your MySQL server version for the right syntax to use near 'order values(https://maps.yakimacounty.us/server/rest/services/CountyRoads/Misce' at line 1\"\n",
      "Error: \"1064 (42000): You have an error in your SQL syntax; check the manual that corresponds to your MySQL server version for the right syntax to use near 'order values(https://spatial.industry.nsw.gov.au/arcgis/rest/services/IndustryVi' at line 1\"\n",
      "Error: \"1064 (42000): You have an error in your SQL syntax; check the manual that corresponds to your MySQL server version for the right syntax to use near 'order values(https://gisweb.pwcva.gov/arcgis/rest/services/AGOL/AGOL/MapServer?f' at line 1\"\n",
      "Error: \"1064 (42000): You have an error in your SQL syntax; check the manual that corresponds to your MySQL server version for the right syntax to use near 'order values(https://developers.arcgis.com/rest/enterprise-administration/server' at line 1\"\n",
      "Error: \"1064 (42000): You have an error in your SQL syntax; check the manual that corresponds to your MySQL server version for the right syntax to use near 'order values(https://openlayers.org/en/latest/examples/)' at line 1\"\n",
      "Error: \"1064 (42000): You have an error in your SQL syntax; check the manual that corresponds to your MySQL server version for the right syntax to use near 'order values(http://gis.nola.gov:6080/arcgis/rest/services/dev/strz_finder/MapSe' at line 1\"\n",
      "Error: \"1064 (42000): You have an error in your SQL syntax; check the manual that corresponds to your MySQL server version for the right syntax to use near 'order values(https://gis4.montgomerycountymd.gov/ArcGIS/rest/services/DOT/purple' at line 1\"\n",
      "Error: \"1064 (42000): You have an error in your SQL syntax; check the manual that corresponds to your MySQL server version for the right syntax to use near 'order values(https://mapa.irun.org/arcgis/rest/services/Policia_PMPC_Fiestas/Age' at line 1\"\n",
      "Error: \"1064 (42000): You have an error in your SQL syntax; check the manual that corresponds to your MySQL server version for the right syntax to use near 'order values(https://maps.doncaster.gov.uk/server/rest/services/Drainage/LLFA_St' at line 1\"\n",
      "Error: \"1064 (42000): You have an error in your SQL syntax; check the manual that corresponds to your MySQL server version for the right syntax to use near 'order values(https://satupeta.jabarprov.go.id/arcgis/rest/services/repository/SP' at line 1\"\n",
      "Error: \"1064 (42000): You have an error in your SQL syntax; check the manual that corresponds to your MySQL server version for the right syntax to use near 'order values(https://maps.yakimacounty.us/server/rest/services/Irrigation/Latera' at line 1\"\n",
      "Error: \"1064 (42000): You have an error in your SQL syntax; check the manual that corresponds to your MySQL server version for the right syntax to use near 'order values(https://gis.dep.pa.gov/depgisprd/rest/services/Assessments/Assessme' at line 1\"\n",
      "Error: \"1064 (42000): You have an error in your SQL syntax; check the manual that corresponds to your MySQL server version for the right syntax to use near 'order values(http://gis.infrastructure.gov.au/infrastructure/rest/services/Ausli' at line 1\"\n",
      "Error: \"1064 (42000): You have an error in your SQL syntax; check the manual that corresponds to your MySQL server version for the right syntax to use near 'order values(https://app2.ge.ch/tergeothematiques/rest/services/GEOLOGIE_MODELE_' at line 1\"\n",
      "Error: \"1064 (42000): You have an error in your SQL syntax; check the manual that corresponds to your MySQL server version for the right syntax to use near 'order values(http://gis.nola.gov:6080/arcgis/rest/services/dev/Gray_Districts/Ma' at line 1\"\n",
      "Error: \"1064 (42000): You have an error in your SQL syntax; check the manual that corresponds to your MySQL server version for the right syntax to use near 'order values(https://mapprod.environment.nsw.gov.au/arcgis/rest/services/EPIC/EP' at line 1\"\n",
      "Error: \"1064 (42000): You have an error in your SQL syntax; check the manual that corresponds to your MySQL server version for the right syntax to use near 'order values(https://maps.doncaster.gov.uk/server/rest/services/Drainage/LLFA_St' at line 1\"\n",
      "Error: \"1064 (42000): You have an error in your SQL syntax; check the manual that corresponds to your MySQL server version for the right syntax to use near 'order values(https://developers.arcgis.com/rest/enterprise-administration/server' at line 1\"\n",
      "Error: \"1064 (42000): You have an error in your SQL syntax; check the manual that corresponds to your MySQL server version for the right syntax to use near 'order values(https://gis.policia.gov.co:6443/arcgis/rest/services/OFTIC/APP_123_' at line 1\"\n",
      "Error: \"1064 (42000): You have an error in your SQL syntax; check the manual that corresponds to your MySQL server version for the right syntax to use near 'order values(http://gis.infrastructure.gov.au/infrastructure/rest/services/Ausli' at line 1\"\n",
      "Error: \"1064 (42000): You have an error in your SQL syntax; check the manual that corresponds to your MySQL server version for the right syntax to use near 'order values(https://mapa.irun.org/arcgis/rest/services/Policia_PMPC_Fiestas/Age' at line 1\"\n",
      "Error: \"1064 (42000): You have an error in your SQL syntax; check the manual that corresponds to your MySQL server version for the right syntax to use near 'order values(https://gis.policia.gov.co:6443/arcgis/rest/services/OFTIC/SIMEP_AU' at line 1\"\n",
      "Error: \"1064 (42000): You have an error in your SQL syntax; check the manual that corresponds to your MySQL server version for the right syntax to use near 'order values(https://mahere-tst.at.govt.nz/server/rest/services/Assets/RAMM_Carr' at line 1\"\n",
      "Error: \"1064 (42000): You have an error in your SQL syntax; check the manual that corresponds to your MySQL server version for the right syntax to use near 'order values(https://developers.arcgis.com/rest/enterprise-administration/server' at line 1\"\n",
      "Error: \"1064 (42000): You have an error in your SQL syntax; check the manual that corresponds to your MySQL server version for the right syntax to use near 'order values(https://developers.arcgis.com/rest/enterprise-administration/server' at line 1\"\n",
      "Error: \"1064 (42000): You have an error in your SQL syntax; check the manual that corresponds to your MySQL server version for the right syntax to use near 'order values(https://developers.arcgis.com/rest/users-groups-and-items/authentic' at line 1\"\n",
      "Error: \"1064 (42000): You have an error in your SQL syntax; check the manual that corresponds to your MySQL server version for the right syntax to use near 'order values(https://developers.arcgis.com/rest/enterprise-administration/server' at line 1\"\n",
      "Error: \"1064 (42000): You have an error in your SQL syntax; check the manual that corresponds to your MySQL server version for the right syntax to use near 'order values(https://developers.arcgis.com/rest/enterprise-administration/server' at line 1\"\n",
      "Error: \"1064 (42000): You have an error in your SQL syntax; check the manual that corresponds to your MySQL server version for the right syntax to use near 'order values(https://developers.arcgis.com/rest/enterprise-administration/server' at line 1\"\n",
      "Error: \"1064 (42000): You have an error in your SQL syntax; check the manual that corresponds to your MySQL server version for the right syntax to use near 'order values(https://developers.arcgis.com/rest/users-groups-and-items/portal/)' at line 1\"\n",
      "Error: \"1064 (42000): You have an error in your SQL syntax; check the manual that corresponds to your MySQL server version for the right syntax to use near 'order values(https://developers.arcgis.com/rest/analysis/)' at line 1\"\n",
      "Error: \"1064 (42000): You have an error in your SQL syntax; check the manual that corresponds to your MySQL server version for the right syntax to use near 'order values(https://developers.arcgis.com/rest/enterprise-administration/server' at line 1\"\n",
      "Error: \"1064 (42000): You have an error in your SQL syntax; check the manual that corresponds to your MySQL server version for the right syntax to use near 'order values(https://enterprise.arcgis.com/en/server/10.6/administer/windows/scr' at line 1\"\n",
      "Error: \"1064 (42000): You have an error in your SQL syntax; check the manual that corresponds to your MySQL server version for the right syntax to use near 'order values(https://enterprise.arcgis.com/en/portal/latest/administer/windows/a' at line 1\"\n",
      "Error: \"1064 (42000): You have an error in your SQL syntax; check the manual that corresponds to your MySQL server version for the right syntax to use near 'order values(https://developers.arcgis.com/rest/users-groups-and-items/organizat' at line 1\"\n",
      "Error: \"1064 (42000): You have an error in your SQL syntax; check the manual that corresponds to your MySQL server version for the right syntax to use near 'order values(https://developers.arcgis.com/rest/enterprise-administration/portal' at line 1\"\n",
      "Error: \"1064 (42000): You have an error in your SQL syntax; check the manual that corresponds to your MySQL server version for the right syntax to use near 'order values(https://developers.arcgis.com/rest/enterprise-administration/notebo' at line 1\"\n",
      "Error: \"1064 (42000): You have an error in your SQL syntax; check the manual that corresponds to your MySQL server version for the right syntax to use near 'order values(https://developers.arcgis.com/rest/users-groups-and-items/common-pa' at line 1\"\n",
      "Error: \"1064 (42000): You have an error in your SQL syntax; check the manual that corresponds to your MySQL server version for the right syntax to use near 'order values(https://enterprise.arcgis.com/en/server/10.8/develop/windows/exampl' at line 1\"\n",
      "Error: \"1064 (42000): You have an error in your SQL syntax; check the manual that corresponds to your MySQL server version for the right syntax to use near 'order values(https://enterprise.arcgis.com/en/server/latest/deploy/windows/compo' at line 1\"\n",
      "Error: \"1064 (42000): You have an error in your SQL syntax; check the manual that corresponds to your MySQL server version for the right syntax to use near 'order values(https://enterprise.arcgis.com/en/portal/latest/administer/windows/s' at line 1\"\n",
      "Error: \"1064 (42000): You have an error in your SQL syntax; check the manual that corresponds to your MySQL server version for the right syntax to use near 'order values(https://services.arcgis.com/P3ePLMYs2RVChkJx/ArcGIS/rest/services)' at line 1\"\n",
      "Error: \"1064 (42000): You have an error in your SQL syntax; check the manual that corresponds to your MySQL server version for the right syntax to use near 'order values(https://doc.arcgis.com/en/arcgis-online/reference/arcgis-server-ser' at line 1\"\n",
      "Error: \"1064 (42000): You have an error in your SQL syntax; check the manual that corresponds to your MySQL server version for the right syntax to use near 'order values(https://developers.arcgis.com/rest/enterprise-administration/enterp' at line 1\"\n",
      "Error: \"1064 (42000): You have an error in your SQL syntax; check the manual that corresponds to your MySQL server version for the right syntax to use near 'order values(https://developers.arcgis.com/rest/users-groups-and-items/servers/)' at line 1\"\n",
      "Error: \"1064 (42000): You have an error in your SQL syntax; check the manual that corresponds to your MySQL server version for the right syntax to use near 'order values(https://enterprise.arcgis.com/en/server/latest/administer/linux/hid' at line 1\"\n"
     ]
    }
   ],
   "source": [
    "for _ in range(100):   \n",
    "    query1 = 'insert into links values(' +df['0'][i] +  ');'\n",
    "    execute_query(connection,query1)"
   ]
  },
  {
   "cell_type": "code",
   "execution_count": 93,
   "metadata": {},
   "outputs": [
    {
     "data": {
      "text/plain": [
       "'insert into order values(https://developers.arcgis.com/rest/);'"
      ]
     },
     "execution_count": 93,
     "metadata": {},
     "output_type": "execute_result"
    }
   ],
   "source": [
    "'insert into order values(' +df['0'][0] +  ');'"
   ]
  },
  {
   "cell_type": "code",
   "execution_count": 57,
   "metadata": {},
   "outputs": [
    {
     "ename": "InternalError",
     "evalue": "Unread result found",
     "output_type": "error",
     "traceback": [
      "\u001b[1;31m---------------------------------------------------------------------------\u001b[0m",
      "\u001b[1;31mInternalError\u001b[0m                             Traceback (most recent call last)",
      "Cell \u001b[1;32mIn[57], line 8\u001b[0m\n\u001b[0;32m      1\u001b[0m query1 \u001b[38;5;241m=\u001b[39m \u001b[38;5;124m\"\"\"\u001b[39m\n\u001b[0;32m      2\u001b[0m \u001b[38;5;124minsert into links values(\u001b[39m\u001b[38;5;124m\"\u001b[39m\u001b[38;5;124mABC\u001b[39m\u001b[38;5;124m\"\u001b[39m\u001b[38;5;124m);\u001b[39m\n\u001b[0;32m      3\u001b[0m \u001b[38;5;124m\"\"\"\u001b[39m\n\u001b[0;32m      5\u001b[0m \u001b[38;5;66;03m# query1 = \"\"\"\u001b[39;00m\n\u001b[0;32m      6\u001b[0m \u001b[38;5;66;03m# select * from links;\u001b[39;00m\n\u001b[0;32m      7\u001b[0m \u001b[38;5;66;03m# \"\"\"\u001b[39;00m\n\u001b[1;32m----> 8\u001b[0m \u001b[43mexecute_query\u001b[49m\u001b[43m(\u001b[49m\u001b[43mconnection\u001b[49m\u001b[43m,\u001b[49m\u001b[43mquery1\u001b[49m\u001b[43m)\u001b[49m\n",
      "Cell \u001b[1;32mIn[30], line 4\u001b[0m, in \u001b[0;36mexecute_query\u001b[1;34m(connection, query)\u001b[0m\n\u001b[0;32m      3\u001b[0m \u001b[38;5;28;01mdef\u001b[39;00m \u001b[38;5;21mexecute_query\u001b[39m(connection, query):\n\u001b[1;32m----> 4\u001b[0m     curs \u001b[38;5;241m=\u001b[39m \u001b[43mconnection\u001b[49m\u001b[38;5;241;43m.\u001b[39;49m\u001b[43mcursor\u001b[49m\u001b[43m(\u001b[49m\u001b[43m)\u001b[49m\n\u001b[0;32m      5\u001b[0m     \u001b[38;5;28;01mtry\u001b[39;00m:\n\u001b[0;32m      6\u001b[0m         curs\u001b[38;5;241m.\u001b[39mexecute(query)\n",
      "File \u001b[1;32mc:\\Python311\\Lib\\site-packages\\mysql\\connector\\connection_cext.py:762\u001b[0m, in \u001b[0;36mCMySQLConnection.cursor\u001b[1;34m(self, buffered, raw, prepared, cursor_class, dictionary, named_tuple)\u001b[0m\n\u001b[0;32m    725\u001b[0m \u001b[38;5;28;01mdef\u001b[39;00m \u001b[38;5;21mcursor\u001b[39m(\n\u001b[0;32m    726\u001b[0m     \u001b[38;5;28mself\u001b[39m,\n\u001b[0;32m    727\u001b[0m     buffered: Optional[\u001b[38;5;28mbool\u001b[39m] \u001b[38;5;241m=\u001b[39m \u001b[38;5;28;01mNone\u001b[39;00m,\n\u001b[1;32m   (...)\u001b[0m\n\u001b[0;32m    732\u001b[0m     named_tuple: Optional[\u001b[38;5;28mbool\u001b[39m] \u001b[38;5;241m=\u001b[39m \u001b[38;5;28;01mNone\u001b[39;00m,\n\u001b[0;32m    733\u001b[0m ) \u001b[38;5;241m-\u001b[39m\u001b[38;5;241m>\u001b[39m CMySQLCursor:\n\u001b[0;32m    734\u001b[0m \u001b[38;5;250m    \u001b[39m\u001b[38;5;124;03m\"\"\"Instantiates and returns a cursor using C Extension\u001b[39;00m\n\u001b[0;32m    735\u001b[0m \n\u001b[0;32m    736\u001b[0m \u001b[38;5;124;03m    By default, CMySQLCursor is returned. Depending on the options\u001b[39;00m\n\u001b[1;32m   (...)\u001b[0m\n\u001b[0;32m    760\u001b[0m \u001b[38;5;124;03m    :rtype: CMySQLCursor or subclass\u001b[39;00m\n\u001b[0;32m    761\u001b[0m \u001b[38;5;124;03m    \"\"\"\u001b[39;00m\n\u001b[1;32m--> 762\u001b[0m     \u001b[38;5;28;43mself\u001b[39;49m\u001b[38;5;241;43m.\u001b[39;49m\u001b[43mhandle_unread_result\u001b[49m\u001b[43m(\u001b[49m\u001b[43mprepared\u001b[49m\u001b[43m)\u001b[49m\n\u001b[0;32m    763\u001b[0m     \u001b[38;5;28;01mif\u001b[39;00m \u001b[38;5;129;01mnot\u001b[39;00m \u001b[38;5;28mself\u001b[39m\u001b[38;5;241m.\u001b[39mis_connected():\n\u001b[0;32m    764\u001b[0m         \u001b[38;5;28;01mraise\u001b[39;00m OperationalError(\u001b[38;5;124m\"\u001b[39m\u001b[38;5;124mMySQL Connection not available.\u001b[39m\u001b[38;5;124m\"\u001b[39m)\n",
      "File \u001b[1;32mc:\\Python311\\Lib\\site-packages\\mysql\\connector\\connection_cext.py:1026\u001b[0m, in \u001b[0;36mCMySQLConnection.handle_unread_result\u001b[1;34m(self, prepared)\u001b[0m\n\u001b[0;32m   1024\u001b[0m     \u001b[38;5;28mself\u001b[39m\u001b[38;5;241m.\u001b[39mconsume_results()\n\u001b[0;32m   1025\u001b[0m \u001b[38;5;28;01melif\u001b[39;00m unread_result:\n\u001b[1;32m-> 1026\u001b[0m     \u001b[38;5;28;01mraise\u001b[39;00m InternalError(\u001b[38;5;124m\"\u001b[39m\u001b[38;5;124mUnread result found\u001b[39m\u001b[38;5;124m\"\u001b[39m)\n",
      "\u001b[1;31mInternalError\u001b[0m: Unread result found"
     ]
    }
   ],
   "source": [
    "query1 = \"\"\"\n",
    "insert into links values(\"ABC\");\n",
    "\"\"\"\n",
    "\n",
    "# query1 = \"\"\"\n",
    "# select * from links;\n",
    "# \"\"\"\n",
    "execute_query(connection,query1)"
   ]
  },
  {
   "cell_type": "code",
   "execution_count": 60,
   "metadata": {},
   "outputs": [
    {
     "ename": "NameError",
     "evalue": "name 'curs' is not defined",
     "output_type": "error",
     "traceback": [
      "\u001b[1;31m---------------------------------------------------------------------------\u001b[0m",
      "\u001b[1;31mNameError\u001b[0m                                 Traceback (most recent call last)",
      "Cell \u001b[1;32mIn[60], line 1\u001b[0m\n\u001b[1;32m----> 1\u001b[0m \u001b[43mcurs\u001b[49m\u001b[38;5;241m.\u001b[39mfetchall()\n",
      "\u001b[1;31mNameError\u001b[0m: name 'curs' is not defined"
     ]
    }
   ],
   "source": [
    "curs.fetchall()"
   ]
  },
  {
   "cell_type": "code",
   "execution_count": null,
   "metadata": {},
   "outputs": [],
   "source": []
  }
 ],
 "metadata": {
  "kernelspec": {
   "display_name": "Python 3",
   "language": "python",
   "name": "python3"
  },
  "language_info": {
   "codemirror_mode": {
    "name": "ipython",
    "version": 3
   },
   "file_extension": ".py",
   "mimetype": "text/x-python",
   "name": "python",
   "nbconvert_exporter": "python",
   "pygments_lexer": "ipython3",
   "version": "3.11.4"
  }
 },
 "nbformat": 4,
 "nbformat_minor": 2
}
